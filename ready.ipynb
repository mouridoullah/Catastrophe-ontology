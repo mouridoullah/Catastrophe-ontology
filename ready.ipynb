{
 "cells": [
  {
   "cell_type": "code",
   "execution_count": 42,
   "metadata": {},
   "outputs": [
    {
     "name": "stdout",
     "output_type": "stream",
     "text": [
      "La catastrophe de type earthquake1 est de type Type de catastrophe non trouvé.\n",
      "Les victimes de la catastrophe sont : Aucune victime trouvée.\n",
      "La réponse à la catastrophe est : Réponse à la catastrophe non trouvée.\n"
     ]
    }
   ],
   "source": [
    "from rdflib import Graph, Namespace\n",
    "\n",
    "# Créer un graph RDF\n",
    "g = Graph()\n",
    "\n",
    "# Charger l'ontologie\n",
    "g.parse(\"disaster-ontology.ttl\", format=\"turtle\")\n",
    "\n",
    "# Fonction pour obtenir le type de catastrophe\n",
    "def get_disaster_type(disaster):\n",
    "    query = f\"\"\"SELECT ?type WHERE {{\n",
    "                ?disaster rdf:type :Disaster .\n",
    "                ?disaster :hasType ?type .\n",
    "                FILTER (?disaster = :{disaster})\n",
    "            }}\"\"\"\n",
    "    result = g.query(query)\n",
    "    if result:\n",
    "        return result.bindings[0]['type']\n",
    "    else:\n",
    "        return \"Type de catastrophe non trouvé\"\n",
    "\n",
    "# Fonction pour obtenir les victimes d'une catastrophe\n",
    "def get_victims(disaster):\n",
    "    query = f\"\"\"SELECT ?victim WHERE {{\n",
    "                ?disaster rdf:type :Disaster .\n",
    "                ?disaster :hasVictim ?victim .\n",
    "                FILTER (?disaster = :{disaster})\n",
    "            }}\"\"\"\n",
    "    result = g.query(query)\n",
    "    victims = [res['victim'] for res in result.bindings]\n",
    "    if victims:\n",
    "        return victims\n",
    "    else:\n",
    "        return [\"Aucune victime trouvée\"]\n",
    "\n",
    "# Fonction pour obtenir la réponse à une catastrophe\n",
    "def get_response(disaster):\n",
    "    query = f\"\"\"SELECT ?response WHERE {{\n",
    "                ?disaster rdf:type :Disaster .\n",
    "                ?disaster :hasResponse ?response .\n",
    "                FILTER (?disaster = :{disaster})\n",
    "            }}\"\"\"\n",
    "    result = g.query(query)\n",
    "    if result:\n",
    "        return result.bindings[0]['response']\n",
    "    else:\n",
    "        return \"Réponse à la catastrophe non trouvée\"\n",
    "\n",
    "# Exemple d'utilisation\n",
    "chosen_disaster = \"earthquake1\"\n",
    "disaster_type = get_disaster_type(chosen_disaster)\n",
    "victims = get_victims(chosen_disaster)\n",
    "response = get_response(chosen_disaster)\n",
    "\n",
    "print(f\"La catastrophe de type {chosen_disaster} est de type {disaster_type}.\")\n",
    "print(f\"Les victimes de la catastrophe sont : {', '.join(victims)}.\")\n",
    "print(f\"La réponse à la catastrophe est : {response}.\")\n"
   ]
  }
 ],
 "metadata": {
  "kernelspec": {
   "display_name": "base",
   "language": "python",
   "name": "python3"
  },
  "language_info": {
   "codemirror_mode": {
    "name": "ipython",
    "version": 3
   },
   "file_extension": ".py",
   "mimetype": "text/x-python",
   "name": "python",
   "nbconvert_exporter": "python",
   "pygments_lexer": "ipython3",
   "version": "3.9.17"
  }
 },
 "nbformat": 4,
 "nbformat_minor": 2
}
